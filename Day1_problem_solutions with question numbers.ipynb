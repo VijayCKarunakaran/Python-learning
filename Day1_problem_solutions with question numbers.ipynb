{
  "nbformat": 4,
  "nbformat_minor": 0,
  "metadata": {
    "colab": {
      "provenance": []
    },
    "kernelspec": {
      "name": "python3",
      "display_name": "Python 3"
    },
    "language_info": {
      "name": "python"
    }
  },
  "cells": [
    {
      "cell_type": "markdown",
      "source": [
        "1. Question 1"
      ],
      "metadata": {
        "id": "ux3vC2upD8fO"
      }
    },
    {
      "cell_type": "code",
      "execution_count": null,
      "metadata": {
        "colab": {
          "base_uri": "https://localhost:8080/"
        },
        "id": "nBazdjZpjsRK",
        "outputId": "cc783803-7393-4f58-c3aa-18159e22d829"
      },
      "outputs": [
        {
          "output_type": "stream",
          "name": "stdout",
          "text": [
            "Hello\n"
          ]
        }
      ],
      "source": [
        "string1 = \"Hello, World!\"\n",
        "print(string1[:5])"
      ]
    },
    {
      "cell_type": "markdown",
      "source": [
        "2. Question 2"
      ],
      "metadata": {
        "id": "01Hx259hEDgy"
      }
    },
    {
      "cell_type": "code",
      "source": [
        "string2 = \"Python is fun\"\n",
        "print(string2[7:9])"
      ],
      "metadata": {
        "colab": {
          "base_uri": "https://localhost:8080/"
        },
        "id": "eXElH7tvk9Ml",
        "outputId": "5e6d1f14-5ba3-4a92-c894-fed9964eb331"
      },
      "execution_count": null,
      "outputs": [
        {
          "output_type": "stream",
          "name": "stdout",
          "text": [
            "is\n"
          ]
        }
      ]
    },
    {
      "cell_type": "markdown",
      "source": [
        "3. Question 3"
      ],
      "metadata": {
        "id": "bnAY8kZcEHtB"
      }
    },
    {
      "cell_type": "code",
      "source": [
        "string3 = \"Programming\"\n",
        "print(string3[3:7])"
      ],
      "metadata": {
        "colab": {
          "base_uri": "https://localhost:8080/"
        },
        "id": "fxxi_nXQlwHi",
        "outputId": "9d88cbad-d606-4e91-c7ba-62cca5c643d5"
      },
      "execution_count": null,
      "outputs": [
        {
          "output_type": "stream",
          "name": "stdout",
          "text": [
            "gram\n"
          ]
        }
      ]
    },
    {
      "cell_type": "markdown",
      "source": [
        "4. Question 4"
      ],
      "metadata": {
        "id": "XtirD_86ENOE"
      }
    },
    {
      "cell_type": "code",
      "source": [
        "string4 = \"abcdefgh\"\n",
        "print(string4[::2])"
      ],
      "metadata": {
        "colab": {
          "base_uri": "https://localhost:8080/"
        },
        "id": "M4ga6mlomCiA",
        "outputId": "d3b2e230-a4ac-40f4-e78a-426537c34101"
      },
      "execution_count": null,
      "outputs": [
        {
          "output_type": "stream",
          "name": "stdout",
          "text": [
            "aceg\n"
          ]
        }
      ]
    },
    {
      "cell_type": "markdown",
      "source": [
        "5. Question 5"
      ],
      "metadata": {
        "id": "uMUhcJRjEQFL"
      }
    },
    {
      "cell_type": "code",
      "source": [
        "string5 = \"abcdefg\"\n",
        "print(string5[-3:])"
      ],
      "metadata": {
        "colab": {
          "base_uri": "https://localhost:8080/"
        },
        "id": "5EBKwMWVmh3c",
        "outputId": "2e5c2f56-0312-4560-b9bc-5fcdad3eb84b"
      },
      "execution_count": null,
      "outputs": [
        {
          "output_type": "stream",
          "name": "stdout",
          "text": [
            "efg\n"
          ]
        }
      ]
    },
    {
      "cell_type": "markdown",
      "source": [
        "6. Question 6"
      ],
      "metadata": {
        "id": "9vZosNDlEWDG"
      }
    },
    {
      "cell_type": "code",
      "source": [
        "string6 = \"Data Science\"\n",
        "print(string6[-3:])"
      ],
      "metadata": {
        "colab": {
          "base_uri": "https://localhost:8080/"
        },
        "id": "t6Bh1Iqxm51f",
        "outputId": "ddba57d5-0076-4d4a-cace-767b5c5dc5f0"
      },
      "execution_count": null,
      "outputs": [
        {
          "output_type": "stream",
          "name": "stdout",
          "text": [
            "nce\n"
          ]
        }
      ]
    },
    {
      "cell_type": "markdown",
      "source": [
        "7. Question 7"
      ],
      "metadata": {
        "id": "qR8Z5lXNEYm8"
      }
    },
    {
      "cell_type": "code",
      "source": [
        "string7 = \"abcdefghij\"\n",
        "print(string7[1::2])"
      ],
      "metadata": {
        "colab": {
          "base_uri": "https://localhost:8080/"
        },
        "id": "P08-TodpnE8b",
        "outputId": "480bc422-f30a-4e03-acbd-0a727c6c27bf"
      },
      "execution_count": null,
      "outputs": [
        {
          "output_type": "stream",
          "name": "stdout",
          "text": [
            "bdfhj\n"
          ]
        }
      ]
    },
    {
      "cell_type": "markdown",
      "source": [
        "8. Question 8"
      ],
      "metadata": {
        "id": "QGuHMx5gEcRX"
      }
    },
    {
      "cell_type": "code",
      "source": [
        "string8 = \"1234567890\"\n",
        "print(string8[0::2])"
      ],
      "metadata": {
        "colab": {
          "base_uri": "https://localhost:8080/"
        },
        "id": "M3aPF-ZRn-oD",
        "outputId": "50033e91-6b1f-4379-9a19-f038ab1b60a8"
      },
      "execution_count": null,
      "outputs": [
        {
          "output_type": "stream",
          "name": "stdout",
          "text": [
            "13579\n"
          ]
        }
      ]
    },
    {
      "cell_type": "markdown",
      "source": [
        "9. Question 9"
      ],
      "metadata": {
        "id": "cqPNtRtgEfZJ"
      }
    },
    {
      "cell_type": "code",
      "source": [
        "string9 = \"Hello\"\n",
        "print(string9[::-1])"
      ],
      "metadata": {
        "colab": {
          "base_uri": "https://localhost:8080/"
        },
        "id": "ZbMIXPcDoL7F",
        "outputId": "36b7fb71-0ded-4bb0-a96d-054694674aa3"
      },
      "execution_count": null,
      "outputs": [
        {
          "output_type": "stream",
          "name": "stdout",
          "text": [
            "olleH\n"
          ]
        }
      ]
    },
    {
      "cell_type": "markdown",
      "source": [
        "10. Question 10"
      ],
      "metadata": {
        "id": "eeMGeVBWEhzr"
      }
    },
    {
      "cell_type": "code",
      "source": [
        "string10 = \"abcdefghijk\"\n",
        "print(string10[0::2])"
      ],
      "metadata": {
        "colab": {
          "base_uri": "https://localhost:8080/"
        },
        "id": "l0VY6BJqqBcH",
        "outputId": "88120fbc-add8-4d56-c48b-b4ba907ad1ee"
      },
      "execution_count": null,
      "outputs": [
        {
          "output_type": "stream",
          "name": "stdout",
          "text": [
            "acegik\n"
          ]
        }
      ]
    }
  ]
}