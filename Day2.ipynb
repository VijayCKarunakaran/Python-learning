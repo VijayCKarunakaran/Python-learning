{
  "nbformat": 4,
  "nbformat_minor": 0,
  "metadata": {
    "colab": {
      "provenance": []
    },
    "kernelspec": {
      "name": "python3",
      "display_name": "Python 3"
    },
    "language_info": {
      "name": "python"
    }
  },
  "cells": [
    {
      "cell_type": "markdown",
      "source": [
        "Question 1"
      ],
      "metadata": {
        "id": "2MgpJBGuzB8w"
      }
    },
    {
      "cell_type": "code",
      "execution_count": null,
      "metadata": {
        "colab": {
          "base_uri": "https://localhost:8080/"
        },
        "id": "9tOjQX6pxfoi",
        "outputId": "c6bffdf6-e720-4b1e-fae1-fba2aec61f58"
      },
      "outputs": [
        {
          "output_type": "stream",
          "name": "stdout",
          "text": [
            "43\n"
          ]
        }
      ],
      "source": [
        "list = [1,3,7,13,19]\n",
        "sum = 0\n",
        "for i in list:\n",
        "  sum = sum + i\n",
        "print(sum)"
      ]
    },
    {
      "cell_type": "markdown",
      "source": [],
      "metadata": {
        "id": "o3BgIVtFy--6"
      }
    },
    {
      "cell_type": "markdown",
      "source": [
        "Question 2"
      ],
      "metadata": {
        "id": "TJTB0oYQ069r"
      }
    },
    {
      "cell_type": "code",
      "source": [
        "string1 = \"Welcome to the world of python\"\n",
        "length = len(string1)\n",
        "print(length)\n",
        "half = int(length/2)\n",
        "first_half = string1[:half]\n",
        "print(first_half)\n"
      ],
      "metadata": {
        "colab": {
          "base_uri": "https://localhost:8080/"
        },
        "id": "fYisvIuyzfZS",
        "outputId": "7949ea48-5ae6-45ae-9e7c-0739cd7d7684"
      },
      "execution_count": null,
      "outputs": [
        {
          "output_type": "stream",
          "name": "stdout",
          "text": [
            "30\n",
            "Welcome to the \n"
          ]
        }
      ]
    },
    {
      "cell_type": "code",
      "source": [
        "tuple1 = (78,45,32,19,82,77,40,39)\n",
        "tuple1.index()"
      ],
      "metadata": {
        "id": "syXyB0_U1F9B"
      },
      "execution_count": null,
      "outputs": []
    },
    {
      "cell_type": "markdown",
      "source": [
        "Question 3"
      ],
      "metadata": {
        "id": "GuGOjo6QI9Jp"
      }
    },
    {
      "cell_type": "code",
      "source": [
        "#to do"
      ],
      "metadata": {
        "id": "15b8p5d1Iv7D"
      },
      "execution_count": null,
      "outputs": []
    },
    {
      "cell_type": "markdown",
      "source": [
        "Question 4\n"
      ],
      "metadata": {
        "id": "X9d3NuwaKwss"
      }
    },
    {
      "cell_type": "code",
      "source": [
        "listA = [19, 32, 10, 55, 31, 32, 94, 29, 10, 65, 77, 40, 40]\n",
        "listA.remove(32)\n",
        "print(listA)"
      ],
      "metadata": {
        "colab": {
          "base_uri": "https://localhost:8080/"
        },
        "id": "1SHJKAX5KzP0",
        "outputId": "47c199eb-9331-4f7f-b2c3-80fc145007cc"
      },
      "execution_count": 9,
      "outputs": [
        {
          "output_type": "stream",
          "name": "stdout",
          "text": [
            "[19, 10, 55, 31, 32, 94, 29, 10, 65, 77, 40, 40]\n"
          ]
        }
      ]
    },
    {
      "cell_type": "code",
      "source": [
        "listA = [19, 32, 10, 55, 31, 32, 94, 29, 10, 65, 77, 40, 40]\n",
        "while 40 in listA:\n",
        "    listA.remove(40)\n",
        "print(listA)\n"
      ],
      "metadata": {
        "colab": {
          "base_uri": "https://localhost:8080/"
        },
        "id": "8FjQnSLgK8S4",
        "outputId": "6e32cc88-d476-43cb-afda-33994c80791a"
      },
      "execution_count": 13,
      "outputs": [
        {
          "output_type": "stream",
          "name": "stdout",
          "text": [
            "[19, 32, 10, 55, 31, 32, 94, 29, 10, 65, 77]\n"
          ]
        }
      ]
    },
    {
      "cell_type": "code",
      "source": [
        "listA = [19, 32, 10, 55, 31, 32, 94, 29, 10, 65, 77, 40, 40]\n",
        "del listA[5]\n",
        "print(listA)"
      ],
      "metadata": {
        "colab": {
          "base_uri": "https://localhost:8080/"
        },
        "id": "rl2wDKrZLaL_",
        "outputId": "10f9e49b-bad6-45f4-9310-42096184f2a3"
      },
      "execution_count": 14,
      "outputs": [
        {
          "output_type": "stream",
          "name": "stdout",
          "text": [
            "[19, 32, 10, 55, 31, 94, 29, 10, 65, 77, 40, 40]\n"
          ]
        }
      ]
    },
    {
      "cell_type": "code",
      "source": [
        "listA = [19, 32, 10, 55, 31, 32, 94, 29, 10, 65, 77, 40, 40]\n",
        "listA[9] = 300\n",
        "print(listA)"
      ],
      "metadata": {
        "colab": {
          "base_uri": "https://localhost:8080/"
        },
        "id": "ovWmPxR2LnzA",
        "outputId": "7d29f607-2f2c-4452-afad-59a19aea0bf8"
      },
      "execution_count": 15,
      "outputs": [
        {
          "output_type": "stream",
          "name": "stdout",
          "text": [
            "[19, 32, 10, 55, 31, 32, 94, 29, 10, 300, 77, 40, 40]\n"
          ]
        }
      ]
    },
    {
      "cell_type": "code",
      "source": [
        "listA = [19, 32, 10, 55, 31, 32, 94, 29, 10, 65, 77, 40, 40]\n",
        "listA.insert(2, 200)\n",
        "print(listA)"
      ],
      "metadata": {
        "colab": {
          "base_uri": "https://localhost:8080/"
        },
        "id": "kIlAaRC5L2ve",
        "outputId": "6c1588be-867e-4f5f-910b-c102a01c8fe7"
      },
      "execution_count": 16,
      "outputs": [
        {
          "output_type": "stream",
          "name": "stdout",
          "text": [
            "[19, 32, 200, 10, 55, 31, 32, 94, 29, 10, 65, 77, 40, 40]\n"
          ]
        }
      ]
    },
    {
      "cell_type": "code",
      "source": [
        "listA = [19, 32, 10, 55, 31, 32, 94, 29, 10, 65, 77, 40, 40]\n",
        "\n",
        "print(\"Final list:\", listA)\n",
        "print(\"Length of the list:\", len(listA))\n",
        "print(\"Highest value in the list:\", max(listA))\n",
        "print(\"Sum of the list:\", sum(listA))"
      ],
      "metadata": {
        "colab": {
          "base_uri": "https://localhost:8080/"
        },
        "id": "IIeQhJvWMGJ-",
        "outputId": "2dca4177-9f7f-4507-a19c-ed31e3ffbd16"
      },
      "execution_count": 18,
      "outputs": [
        {
          "output_type": "stream",
          "name": "stdout",
          "text": [
            "Final list: [19, 32, 10, 55, 31, 32, 94, 29, 10, 65, 77, 40, 40]\n",
            "Length of the list: 13\n",
            "Highest value in the list: 94\n",
            "Sum of the list: 534\n"
          ]
        }
      ]
    },
    {
      "cell_type": "markdown",
      "source": [
        "Question 5\n"
      ],
      "metadata": {
        "id": "vQnKsTn3QN0d"
      }
    },
    {
      "cell_type": "code",
      "source": [
        "str1 = \"The day has been long\"\n",
        "str1 = str1[:4] + str1[5:]\n",
        "print(\"String after deleting the value at index 4:\", str1)\n"
      ],
      "metadata": {
        "colab": {
          "base_uri": "https://localhost:8080/"
        },
        "id": "aGGQKdLVQQHQ",
        "outputId": "9126c9f9-cd6e-4f0c-8816-46ccccba6c3c"
      },
      "execution_count": 19,
      "outputs": [
        {
          "output_type": "stream",
          "name": "stdout",
          "text": [
            "String after deleting the value at index 4: The ay has been long\n"
          ]
        }
      ]
    },
    {
      "cell_type": "code",
      "source": [
        "str1 = \"The day has been long\"\n",
        "print(str1 * 4)\n"
      ],
      "metadata": {
        "colab": {
          "base_uri": "https://localhost:8080/"
        },
        "id": "Ad9GM1odRkJH",
        "outputId": "edb4adaf-fb52-4c68-d800-69463579b053"
      },
      "execution_count": 20,
      "outputs": [
        {
          "output_type": "stream",
          "name": "stdout",
          "text": [
            "The day has been longThe day has been longThe day has been longThe day has been long\n"
          ]
        }
      ]
    },
    {
      "cell_type": "code",
      "source": [
        "str1 = \"The day has been long\"\n",
        "print(\"The day has been long\\n\" * 4)\n"
      ],
      "metadata": {
        "colab": {
          "base_uri": "https://localhost:8080/"
        },
        "id": "Hb-c6hUORsTf",
        "outputId": "d4a71b21-bc93-4aba-e06e-eb86e064bfd3"
      },
      "execution_count": 25,
      "outputs": [
        {
          "output_type": "stream",
          "name": "stdout",
          "text": [
            "The day has been long\n",
            "The day has been long\n",
            "The day has been long\n",
            "The day has been long\n",
            "\n"
          ]
        }
      ]
    },
    {
      "cell_type": "code",
      "source": [
        "str1 = \"The day has been long\"\n",
        "str1 = str1[:7] + 'A' + str1[8:]\n",
        "print(\"String after modifying the value at index 7 as 'A':\", str1)"
      ],
      "metadata": {
        "colab": {
          "base_uri": "https://localhost:8080/"
        },
        "id": "eo6e2BJuSWb5",
        "outputId": "1d534609-7cd9-417a-dfe8-192205437495"
      },
      "execution_count": 26,
      "outputs": [
        {
          "output_type": "stream",
          "name": "stdout",
          "text": [
            "String after modifying the value at index 7 as 'A': The dayAhas been long\n"
          ]
        }
      ]
    },
    {
      "cell_type": "code",
      "source": [
        "str1 = \"The day has been long\"\n",
        "print(\"String from index 4 to 15:\", str1[4:16])"
      ],
      "metadata": {
        "colab": {
          "base_uri": "https://localhost:8080/"
        },
        "id": "KbL6gMCOTQq1",
        "outputId": "680c502e-a876-46c0-f380-bb77385c9e9f"
      },
      "execution_count": 27,
      "outputs": [
        {
          "output_type": "stream",
          "name": "stdout",
          "text": [
            "String from index 4 to 15: day has been\n"
          ]
        }
      ]
    },
    {
      "cell_type": "code",
      "source": [
        "str1 = \"The day has been long\"\n",
        "print(\"Final string:\", str1)\n",
        "print(\"Length of the final string:\", len(str1))\n"
      ],
      "metadata": {
        "colab": {
          "base_uri": "https://localhost:8080/"
        },
        "id": "c0IYffItTWhd",
        "outputId": "9775330f-6ae2-49ca-f5e3-2a6e7e9c2001"
      },
      "execution_count": 28,
      "outputs": [
        {
          "output_type": "stream",
          "name": "stdout",
          "text": [
            "Final string: The day has been long\n",
            "Length of the final string: 21\n"
          ]
        }
      ]
    }
  ]
}