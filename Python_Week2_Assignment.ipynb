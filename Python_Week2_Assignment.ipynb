{
  "nbformat": 4,
  "nbformat_minor": 0,
  "metadata": {
    "colab": {
      "provenance": []
    },
    "kernelspec": {
      "name": "python3",
      "display_name": "Python 3"
    },
    "language_info": {
      "name": "python"
    }
  },
  "cells": [
    {
      "cell_type": "markdown",
      "source": [
        "1. Write an interactive Python Program to implement following “Guess Game”\n",
        "i. Think of a number between 1 and 10 and store it in a variable called\n",
        "\"secretNumber\".\n",
        "ii. Ask the user to enter a number between 1 and 10 and store it in a variable called\n",
        "\"guess\".\n",
        "iii. Use control statements (if-else) to check if the guess is correct, higher, or lower\n",
        "than the secret number.\n",
        "iv. Display appropriate messages to the user based on their guess:\n",
        "• If the guess is correct, display \"Congratulations! You guessed the number\n",
        "correctly!\"\n",
        "• If the guess is higher than the secret number, display \"Too high! Try\n",
        "again.\"\n",
        "• If the guess is lower than the secret number, display \"Too low! Try again.\"\n",
        "v. Allow the user to keep guessing until they guess the correct number"
      ],
      "metadata": {
        "id": "3cUI2BVBz9Sa"
      }
    },
    {
      "cell_type": "code",
      "execution_count": 1,
      "metadata": {
        "colab": {
          "base_uri": "https://localhost:8080/"
        },
        "id": "o-JhiFCzzDmJ",
        "outputId": "af9318f0-7b3c-4fab-914b-97592ec16f86"
      },
      "outputs": [
        {
          "output_type": "stream",
          "name": "stdout",
          "text": [
            "Enter your guess (1-10): 5\n",
            "Too high! Try again.\n",
            "Enter your guess (1-10): 3\n",
            "Too high! Try again.\n",
            "Enter your guess (1-10): 1\n",
            "Congratulations! You guessed the number correctly!\n",
            "You took 3 guesses to guess the number correctly.\n"
          ]
        }
      ],
      "source": [
        "import random\n",
        "\n",
        "\n",
        "secretNumber = random.randint(1, 10)\n",
        "\n",
        "\n",
        "guesses = 0\n",
        "\n",
        "\n",
        "while True:\n",
        "\n",
        "  guess = int(input(\"Enter your guess (1-10): \"))\n",
        "\n",
        "  guesses += 1\n",
        "\n",
        "  if guess == secretNumber:\n",
        "    print(\"Congratulations! You guessed the number correctly!\")\n",
        "    break\n",
        "\n",
        "  elif guess > secretNumber:\n",
        "    print(\"Too high! Try again.\")\n",
        "\n",
        "  else:\n",
        "    print(\"Too low! Try again.\")\n",
        "\n",
        "print(\"You took\", guesses, \"guesses to guess the number correctly.\")"
      ]
    },
    {
      "cell_type": "code",
      "source": [
        "def factorial(n):\n",
        "  if n == 0:\n",
        "    return 1\n",
        "  else:\n",
        "    return n * factorial(n - 1)\n",
        "\n",
        "def check_photo_acceptability(L, W, H):\n",
        "  if W < L or H < L:\n",
        "    print(\"UPLOAD ANOTHER\")\n",
        "  elif W == H:\n",
        "    print(\"ACCEPTED\")\n",
        "  else:\n",
        "    print(\"CROP IT\")\n",
        "\n",
        "# Get input for the factorial calculation\n",
        "n = int(input(\"Enter the number for factorial calculation: \"))\n",
        "\n",
        "# Calculate and print the factorial\n",
        "fact = factorial(n)\n",
        "print(\"Factorial of\", n, \":\", fact)\n",
        "\n",
        "# Get input for the photo dimensions and minimum dimension\n",
        "L = int(input(\"Enter the minimum dimension L: \"))\n",
        "N = int(input(\"Enter the number of photos: \"))\n",
        "\n",
        "# Check photo acceptability for each photo\n",
        "for i in range(N):\n",
        "  W = int(input(\"Enter width of photo\", i + 1, \": \"))\n",
        "  H = int(input(\"Enter height of photo\", i + 1, \": \"))\n",
        "  check_photo_acceptability(L, W, H)"
      ],
      "metadata": {
        "colab": {
          "base_uri": "https://localhost:8080/",
          "height": 314
        },
        "id": "KKzYDRpv0OqJ",
        "outputId": "5eaac271-2817-4061-8cdb-0c3aff7b9f3a"
      },
      "execution_count": 4,
      "outputs": [
        {
          "name": "stdout",
          "output_type": "stream",
          "text": [
            "Enter the number for factorial calculation: 6\n",
            "Factorial of 6 : 720\n",
            "Enter the minimum dimension L: 4\n",
            "Enter the number of photos: 2\n"
          ]
        },
        {
          "output_type": "error",
          "ename": "TypeError",
          "evalue": "ignored",
          "traceback": [
            "\u001b[0;31m---------------------------------------------------------------------------\u001b[0m",
            "\u001b[0;31mTypeError\u001b[0m                                 Traceback (most recent call last)",
            "\u001b[0;32m<ipython-input-4-1d0891ecb6d1>\u001b[0m in \u001b[0;36m<cell line: 27>\u001b[0;34m()\u001b[0m\n\u001b[1;32m     26\u001b[0m \u001b[0;31m# Check photo acceptability for each photo\u001b[0m\u001b[0;34m\u001b[0m\u001b[0;34m\u001b[0m\u001b[0m\n\u001b[1;32m     27\u001b[0m \u001b[0;32mfor\u001b[0m \u001b[0mi\u001b[0m \u001b[0;32min\u001b[0m \u001b[0mrange\u001b[0m\u001b[0;34m(\u001b[0m\u001b[0mN\u001b[0m\u001b[0;34m)\u001b[0m\u001b[0;34m:\u001b[0m\u001b[0;34m\u001b[0m\u001b[0;34m\u001b[0m\u001b[0m\n\u001b[0;32m---> 28\u001b[0;31m   \u001b[0mW\u001b[0m \u001b[0;34m=\u001b[0m \u001b[0mint\u001b[0m\u001b[0;34m(\u001b[0m\u001b[0minput\u001b[0m\u001b[0;34m(\u001b[0m\u001b[0;34m\"Enter width of photo\"\u001b[0m\u001b[0;34m,\u001b[0m \u001b[0mi\u001b[0m \u001b[0;34m+\u001b[0m \u001b[0;36m1\u001b[0m\u001b[0;34m,\u001b[0m \u001b[0;34m\": \"\u001b[0m\u001b[0;34m)\u001b[0m\u001b[0;34m)\u001b[0m\u001b[0;34m\u001b[0m\u001b[0;34m\u001b[0m\u001b[0m\n\u001b[0m\u001b[1;32m     29\u001b[0m   \u001b[0mH\u001b[0m \u001b[0;34m=\u001b[0m \u001b[0mint\u001b[0m\u001b[0;34m(\u001b[0m\u001b[0minput\u001b[0m\u001b[0;34m(\u001b[0m\u001b[0;34m\"Enter height of photo\"\u001b[0m\u001b[0;34m,\u001b[0m \u001b[0mi\u001b[0m \u001b[0;34m+\u001b[0m \u001b[0;36m1\u001b[0m\u001b[0;34m,\u001b[0m \u001b[0;34m\": \"\u001b[0m\u001b[0;34m)\u001b[0m\u001b[0;34m)\u001b[0m\u001b[0;34m\u001b[0m\u001b[0;34m\u001b[0m\u001b[0m\n\u001b[1;32m     30\u001b[0m   \u001b[0mcheck_photo_acceptability\u001b[0m\u001b[0;34m(\u001b[0m\u001b[0mL\u001b[0m\u001b[0;34m,\u001b[0m \u001b[0mW\u001b[0m\u001b[0;34m,\u001b[0m \u001b[0mH\u001b[0m\u001b[0;34m)\u001b[0m\u001b[0;34m\u001b[0m\u001b[0;34m\u001b[0m\u001b[0m\n",
            "\u001b[0;31mTypeError\u001b[0m: Kernel.raw_input() takes from 1 to 2 positional arguments but 4 were given"
          ]
        }
      ]
    },
    {
      "cell_type": "markdown",
      "source": [
        "\n",
        "\n",
        "```\n",
        "# This is formatted as code\n",
        "```\n",
        "\n"
      ],
      "metadata": {
        "id": "81lH1ZYdz70J"
      }
    }
  ]
}